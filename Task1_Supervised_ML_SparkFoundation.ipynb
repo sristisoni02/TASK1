{
  "nbformat": 4,
  "nbformat_minor": 0,
  "metadata": {
    "kernelspec": {
      "display_name": "Python 3",
      "language": "python",
      "name": "python3"
    },
    "language_info": {
      "codemirror_mode": {
        "name": "ipython",
        "version": 3
      },
      "file_extension": ".py",
      "mimetype": "text/x-python",
      "name": "python",
      "nbconvert_exporter": "python",
      "pygments_lexer": "ipython3",
      "version": "3.8.5"
    },
    "colab": {
      "name": "Task1_Supervised_ML SparkFoundation.ipynb",
      "provenance": [],
      "collapsed_sections": []
    }
  },
  "cells": [
    {
      "cell_type": "markdown",
      "metadata": {
        "id": "LK4LbZTcJZV1"
      },
      "source": [
        "# THE SPARKS FOUNDATION\n",
        "\n",
        "# *Data Science And Business Analytics Tasks*\n",
        "\n",
        "#### By:- Shristi Soni\n",
        "\n",
        "### TASK 1 -Linear Regresssion Supervised Machine Learnning\n",
        "\n",
        "***Question:-To Predict the percentage of marks of the students based on the number of hours they studied***"
      ]
    },
    {
      "cell_type": "markdown",
      "metadata": {
        "id": "KRk9F4HaJZW6"
      },
      "source": [
        "***so we will apply Simple Linear Regression Model as only 2 variables are involved***"
      ]
    },
    {
      "cell_type": "markdown",
      "metadata": {
        "id": "bDDD64HfJZW-"
      },
      "source": [
        "***Step1:- Firstly we import the Libraries Required for  competeing Task***"
      ]
    },
    {
      "cell_type": "code",
      "metadata": {
        "id": "WMgHj2KnJZXB"
      },
      "source": [
        "#importing Libraries\n",
        "import pandas as pd\n",
        "import numpy as np\n",
        "import matplotlib.pyplot as plt \n",
        "import seaborn as sn\n",
        "from sklearn.model_selection import train_test_split\n",
        "from sklearn.linear_model import LinearRegression\n",
        "from sklearn.metrics import mean_absolute_error\n",
        "from sklearn.metrics import r2_score"
      ],
      "execution_count": 16,
      "outputs": []
    },
    {
      "cell_type": "markdown",
      "metadata": {
        "id": "sLHtkkQnJZXG"
      },
      "source": [
        "***Step2:- Read the given csv data by using pandas read_csv function***"
      ]
    },
    {
      "cell_type": "code",
      "metadata": {
        "colab": {
          "base_uri": "https://localhost:8080/",
          "height": 841
        },
        "id": "sm-CYxgbJZXI",
        "outputId": "56ab4e2d-545e-4199-ed42-d1c2c61ecd60"
      },
      "source": [
        "# Reading the Data \n",
        "Dataset = pd.read_csv('http://bit.ly/w-data')\n",
        "print(\"Data Reading from CSV File successful!!!\")\n",
        "Dataset"
      ],
      "execution_count": 17,
      "outputs": [
        {
          "output_type": "stream",
          "text": [
            "Data Reading from CSV File successful!!!\n"
          ],
          "name": "stdout"
        },
        {
          "output_type": "execute_result",
          "data": {
            "text/html": [
              "<div>\n",
              "<style scoped>\n",
              "    .dataframe tbody tr th:only-of-type {\n",
              "        vertical-align: middle;\n",
              "    }\n",
              "\n",
              "    .dataframe tbody tr th {\n",
              "        vertical-align: top;\n",
              "    }\n",
              "\n",
              "    .dataframe thead th {\n",
              "        text-align: right;\n",
              "    }\n",
              "</style>\n",
              "<table border=\"1\" class=\"dataframe\">\n",
              "  <thead>\n",
              "    <tr style=\"text-align: right;\">\n",
              "      <th></th>\n",
              "      <th>Hours</th>\n",
              "      <th>Scores</th>\n",
              "    </tr>\n",
              "  </thead>\n",
              "  <tbody>\n",
              "    <tr>\n",
              "      <th>0</th>\n",
              "      <td>2.5</td>\n",
              "      <td>21</td>\n",
              "    </tr>\n",
              "    <tr>\n",
              "      <th>1</th>\n",
              "      <td>5.1</td>\n",
              "      <td>47</td>\n",
              "    </tr>\n",
              "    <tr>\n",
              "      <th>2</th>\n",
              "      <td>3.2</td>\n",
              "      <td>27</td>\n",
              "    </tr>\n",
              "    <tr>\n",
              "      <th>3</th>\n",
              "      <td>8.5</td>\n",
              "      <td>75</td>\n",
              "    </tr>\n",
              "    <tr>\n",
              "      <th>4</th>\n",
              "      <td>3.5</td>\n",
              "      <td>30</td>\n",
              "    </tr>\n",
              "    <tr>\n",
              "      <th>5</th>\n",
              "      <td>1.5</td>\n",
              "      <td>20</td>\n",
              "    </tr>\n",
              "    <tr>\n",
              "      <th>6</th>\n",
              "      <td>9.2</td>\n",
              "      <td>88</td>\n",
              "    </tr>\n",
              "    <tr>\n",
              "      <th>7</th>\n",
              "      <td>5.5</td>\n",
              "      <td>60</td>\n",
              "    </tr>\n",
              "    <tr>\n",
              "      <th>8</th>\n",
              "      <td>8.3</td>\n",
              "      <td>81</td>\n",
              "    </tr>\n",
              "    <tr>\n",
              "      <th>9</th>\n",
              "      <td>2.7</td>\n",
              "      <td>25</td>\n",
              "    </tr>\n",
              "    <tr>\n",
              "      <th>10</th>\n",
              "      <td>7.7</td>\n",
              "      <td>85</td>\n",
              "    </tr>\n",
              "    <tr>\n",
              "      <th>11</th>\n",
              "      <td>5.9</td>\n",
              "      <td>62</td>\n",
              "    </tr>\n",
              "    <tr>\n",
              "      <th>12</th>\n",
              "      <td>4.5</td>\n",
              "      <td>41</td>\n",
              "    </tr>\n",
              "    <tr>\n",
              "      <th>13</th>\n",
              "      <td>3.3</td>\n",
              "      <td>42</td>\n",
              "    </tr>\n",
              "    <tr>\n",
              "      <th>14</th>\n",
              "      <td>1.1</td>\n",
              "      <td>17</td>\n",
              "    </tr>\n",
              "    <tr>\n",
              "      <th>15</th>\n",
              "      <td>8.9</td>\n",
              "      <td>95</td>\n",
              "    </tr>\n",
              "    <tr>\n",
              "      <th>16</th>\n",
              "      <td>2.5</td>\n",
              "      <td>30</td>\n",
              "    </tr>\n",
              "    <tr>\n",
              "      <th>17</th>\n",
              "      <td>1.9</td>\n",
              "      <td>24</td>\n",
              "    </tr>\n",
              "    <tr>\n",
              "      <th>18</th>\n",
              "      <td>6.1</td>\n",
              "      <td>67</td>\n",
              "    </tr>\n",
              "    <tr>\n",
              "      <th>19</th>\n",
              "      <td>7.4</td>\n",
              "      <td>69</td>\n",
              "    </tr>\n",
              "    <tr>\n",
              "      <th>20</th>\n",
              "      <td>2.7</td>\n",
              "      <td>30</td>\n",
              "    </tr>\n",
              "    <tr>\n",
              "      <th>21</th>\n",
              "      <td>4.8</td>\n",
              "      <td>54</td>\n",
              "    </tr>\n",
              "    <tr>\n",
              "      <th>22</th>\n",
              "      <td>3.8</td>\n",
              "      <td>35</td>\n",
              "    </tr>\n",
              "    <tr>\n",
              "      <th>23</th>\n",
              "      <td>6.9</td>\n",
              "      <td>76</td>\n",
              "    </tr>\n",
              "    <tr>\n",
              "      <th>24</th>\n",
              "      <td>7.8</td>\n",
              "      <td>86</td>\n",
              "    </tr>\n",
              "  </tbody>\n",
              "</table>\n",
              "</div>"
            ],
            "text/plain": [
              "    Hours  Scores\n",
              "0     2.5      21\n",
              "1     5.1      47\n",
              "2     3.2      27\n",
              "3     8.5      75\n",
              "4     3.5      30\n",
              "5     1.5      20\n",
              "6     9.2      88\n",
              "7     5.5      60\n",
              "8     8.3      81\n",
              "9     2.7      25\n",
              "10    7.7      85\n",
              "11    5.9      62\n",
              "12    4.5      41\n",
              "13    3.3      42\n",
              "14    1.1      17\n",
              "15    8.9      95\n",
              "16    2.5      30\n",
              "17    1.9      24\n",
              "18    6.1      67\n",
              "19    7.4      69\n",
              "20    2.7      30\n",
              "21    4.8      54\n",
              "22    3.8      35\n",
              "23    6.9      76\n",
              "24    7.8      86"
            ]
          },
          "metadata": {
            "tags": []
          },
          "execution_count": 17
        }
      ]
    },
    {
      "cell_type": "markdown",
      "metadata": {
        "id": "lqdZkTtuJZXQ"
      },
      "source": [
        "***Step3:- Null Value Checking Dataset if exists then fill it otherwise remove the tuple***"
      ]
    },
    {
      "cell_type": "code",
      "metadata": {
        "colab": {
          "base_uri": "https://localhost:8080/"
        },
        "id": "58ZgtwGXJZXS",
        "outputId": "9544d691-b6b9-4310-cc9e-0922761e6379"
      },
      "source": [
        "# Null value in the Dataset\n",
        "Dataset.isnull == True"
      ],
      "execution_count": 18,
      "outputs": [
        {
          "output_type": "execute_result",
          "data": {
            "text/plain": [
              "False"
            ]
          },
          "metadata": {
            "tags": []
          },
          "execution_count": 18
        }
      ]
    },
    {
      "cell_type": "markdown",
      "metadata": {
        "id": "t9WrMSZKJZXW"
      },
      "source": [
        "***step4:- AS there are no null values so we will try to analyse data and will plot a graph and see how it can be modeled***"
      ]
    },
    {
      "cell_type": "code",
      "metadata": {
        "colab": {
          "base_uri": "https://localhost:8080/",
          "height": 309
        },
        "id": "qnmIfZnBJZXY",
        "outputId": "82dbd3bf-8df5-43b2-b107-1c04db9dcf5e"
      },
      "source": [
        "#by using seaborn and matplotlib will change styles and plot a scatterplot and show it!\n",
        "sn.set_style('darkgrid') #CAN USE WHITEGRID ALSO\n",
        "sn.scatterplot(y= Dataset['Scores'], x= Dataset['Hours'])\n",
        "plt.title('Percentage Vs Study Hours',size=25)\n",
        "plt.ylabel('Percentage', size=15)\n",
        "plt.xlabel('Study Hours', size=15)\n",
        "plt.show()"
      ],
      "execution_count": 19,
      "outputs": [
        {
          "output_type": "display_data",
          "data": {
            "image/png": "[encoded data removed]",
            "text/plain": [
              "<Figure size 432x288 with 1 Axes>"
            ]
          },
          "metadata": {
            "tags": []
          }
        }
      ]
    },
    {
      "cell_type": "markdown",
      "metadata": {
        "id": "SXHUjsN7JZXc"
      },
      "source": [
        "***from above graph it is clear that there's a relation between percentage and study_hours so we will try to plot a regression line and see how the relation varies***"
      ]
    },
    {
      "cell_type": "code",
      "metadata": {
        "colab": {
          "base_uri": "https://localhost:8080/",
          "height": 303
        },
        "id": "TzqYyyqzJZXe",
        "outputId": "7c7ef83f-8ce9-4bd3-d09a-e1ec0257951a"
      },
      "source": [
        "#by using seaborn and matplotlib will change styles and plot a regressionplot i.e line and show it!\n",
        "sn.regplot(x= Dataset['Hours'], y= Dataset['Scores'])\n",
        "plt.title('Regression Plot',size=20)\n",
        "plt.ylabel('Marks Percentage', size=12)\n",
        "plt.xlabel('Hours Studied', size=12)\n",
        "plt.show()"
      ],
      "execution_count": 20,
      "outputs": [
        {
          "output_type": "display_data",
          "data": {
            "image/png": "[encoded data removed]",
            "text/plain": [
              "<Figure size 432x288 with 1 Axes>"
            ]
          },
          "metadata": {
            "tags": []
          }
        }
      ]
    },
    {
      "cell_type": "code",
      "metadata": {
        "colab": {
          "base_uri": "https://localhost:8080/"
        },
        "id": "I3gXrbeNJZXh",
        "outputId": "e0bde43a-1b30-4178-b2c6-abc452c0aca5"
      },
      "source": [
        "# Display an correlation Between the two Variables!!\n",
        "print(Dataset.corr())"
      ],
      "execution_count": 21,
      "outputs": [
        {
          "output_type": "stream",
          "text": [
            "           Hours    Scores\n",
            "Hours   1.000000  0.976191\n",
            "Scores  0.976191  1.000000\n"
          ],
          "name": "stdout"
        }
      ]
    },
    {
      "cell_type": "markdown",
      "metadata": {
        "id": "e7J5Dl9mJZXj"
      },
      "source": [
        "### Here Actual Training starts\n",
        "\n",
        "***step5:- So Now we will do slicing and just store Hours in x and percentage in y and then we will use train_test_split which will automatically split training and testing data according to provided input test size***"
      ]
    },
    {
      "cell_type": "code",
      "metadata": {
        "id": "vOkhxe6QJZXl"
      },
      "source": [
        "#so just assigning data to X and y from the Dataset provided\n",
        "X = Dataset.iloc[:, :1].values  \n",
        "y = Dataset.iloc[:, 1].values\n",
        "# Splitting data for training and testing purpose we can add testing size if want!\n",
        "train_X, test_X, train_y ,test_y= train_test_split(X, y,random_state = 0)"
      ],
      "execution_count": 22,
      "outputs": []
    },
    {
      "cell_type": "markdown",
      "metadata": {
        "id": "coLHMTzfJZXs"
      },
      "source": [
        "***step6:- As the data is trained we will try to fit it into and Regression Model***"
      ]
    },
    {
      "cell_type": "code",
      "metadata": {
        "colab": {
          "base_uri": "https://localhost:8080/"
        },
        "id": "fyO8brquJZXu",
        "outputId": "28ee5fb6-af98-49a4-ac38-3ae0831dd949"
      },
      "source": [
        "#fitting model\n",
        "r_model = LinearRegression()\n",
        "r_model.fit(train_X, train_y)\n",
        "print(\"****************fitting Model Completed****************\")"
      ],
      "execution_count": 23,
      "outputs": [
        {
          "output_type": "stream",
          "text": [
            "****************fitting Model Completed****************\n"
          ],
          "name": "stdout"
        }
      ]
    },
    {
      "cell_type": "markdown",
      "metadata": {
        "id": "T82WKHd-JZXy"
      },
      "source": [
        "***step7:- We will predict the Marks and Display study Hours and Percentage predicted according to study hour ***"
      ]
    },
    {
      "cell_type": "code",
      "metadata": {
        "colab": {
          "base_uri": "https://localhost:8080/",
          "height": 266
        },
        "id": "qKxcLZRsJZX0",
        "outputId": "b3ac6d30-a638-4f25-9233-484810c344fb"
      },
      "source": [
        "#predicting Values\n",
        "pred_percent = r_model.predict(test_X)\n",
        "prediction_table = pd.DataFrame({'Study Hours': [i[0] for i in test_X], 'Predicted_Percent': [k for k in pred_percent]})\n",
        "prediction_table"
      ],
      "execution_count": 24,
      "outputs": [
        {
          "output_type": "execute_result",
          "data": {
            "text/html": [
              "<div>\n",
              "<style scoped>\n",
              "    .dataframe tbody tr th:only-of-type {\n",
              "        vertical-align: middle;\n",
              "    }\n",
              "\n",
              "    .dataframe tbody tr th {\n",
              "        vertical-align: top;\n",
              "    }\n",
              "\n",
              "    .dataframe thead th {\n",
              "        text-align: right;\n",
              "    }\n",
              "</style>\n",
              "<table border=\"1\" class=\"dataframe\">\n",
              "  <thead>\n",
              "    <tr style=\"text-align: right;\">\n",
              "      <th></th>\n",
              "      <th>Study Hours</th>\n",
              "      <th>Predicted_Percent</th>\n",
              "    </tr>\n",
              "  </thead>\n",
              "  <tbody>\n",
              "    <tr>\n",
              "      <th>0</th>\n",
              "      <td>1.5</td>\n",
              "      <td>16.844722</td>\n",
              "    </tr>\n",
              "    <tr>\n",
              "      <th>1</th>\n",
              "      <td>3.2</td>\n",
              "      <td>33.745575</td>\n",
              "    </tr>\n",
              "    <tr>\n",
              "      <th>2</th>\n",
              "      <td>7.4</td>\n",
              "      <td>75.500624</td>\n",
              "    </tr>\n",
              "    <tr>\n",
              "      <th>3</th>\n",
              "      <td>2.5</td>\n",
              "      <td>26.786400</td>\n",
              "    </tr>\n",
              "    <tr>\n",
              "      <th>4</th>\n",
              "      <td>5.9</td>\n",
              "      <td>60.588106</td>\n",
              "    </tr>\n",
              "    <tr>\n",
              "      <th>5</th>\n",
              "      <td>3.8</td>\n",
              "      <td>39.710582</td>\n",
              "    </tr>\n",
              "    <tr>\n",
              "      <th>6</th>\n",
              "      <td>1.9</td>\n",
              "      <td>20.821393</td>\n",
              "    </tr>\n",
              "  </tbody>\n",
              "</table>\n",
              "</div>"
            ],
            "text/plain": [
              "   Study Hours  Predicted_Percent\n",
              "0          1.5          16.844722\n",
              "1          3.2          33.745575\n",
              "2          7.4          75.500624\n",
              "3          2.5          26.786400\n",
              "4          5.9          60.588106\n",
              "5          3.8          39.710582\n",
              "6          1.9          20.821393"
            ]
          },
          "metadata": {
            "tags": []
          },
          "execution_count": 24
        }
      ]
    },
    {
      "cell_type": "markdown",
      "metadata": {
        "id": "kcOnR1y6JZX2"
      },
      "source": [
        "***step8:-As we have Predicted the percentage we will compare both and display a table for analysing it!! ***"
      ]
    },
    {
      "cell_type": "code",
      "metadata": {
        "colab": {
          "base_uri": "https://localhost:8080/",
          "height": 266
        },
        "id": "meVP1tpaJZX4",
        "outputId": "9ab7c211-206e-4dff-d1ef-2c59edad9551"
      },
      "source": [
        "cmp_scores = pd.DataFrame({'Actual_Percent': test_y, 'Predicted_Percent': pred_percent})\n",
        "cmp_scores"
      ],
      "execution_count": 25,
      "outputs": [
        {
          "output_type": "execute_result",
          "data": {
            "text/html": [
              "<div>\n",
              "<style scoped>\n",
              "    .dataframe tbody tr th:only-of-type {\n",
              "        vertical-align: middle;\n",
              "    }\n",
              "\n",
              "    .dataframe tbody tr th {\n",
              "        vertical-align: top;\n",
              "    }\n",
              "\n",
              "    .dataframe thead th {\n",
              "        text-align: right;\n",
              "    }\n",
              "</style>\n",
              "<table border=\"1\" class=\"dataframe\">\n",
              "  <thead>\n",
              "    <tr style=\"text-align: right;\">\n",
              "      <th></th>\n",
              "      <th>Actual_Percent</th>\n",
              "      <th>Predicted_Percent</th>\n",
              "    </tr>\n",
              "  </thead>\n",
              "  <tbody>\n",
              "    <tr>\n",
              "      <th>0</th>\n",
              "      <td>20</td>\n",
              "      <td>16.844722</td>\n",
              "    </tr>\n",
              "    <tr>\n",
              "      <th>1</th>\n",
              "      <td>27</td>\n",
              "      <td>33.745575</td>\n",
              "    </tr>\n",
              "    <tr>\n",
              "      <th>2</th>\n",
              "      <td>69</td>\n",
              "      <td>75.500624</td>\n",
              "    </tr>\n",
              "    <tr>\n",
              "      <th>3</th>\n",
              "      <td>30</td>\n",
              "      <td>26.786400</td>\n",
              "    </tr>\n",
              "    <tr>\n",
              "      <th>4</th>\n",
              "      <td>62</td>\n",
              "      <td>60.588106</td>\n",
              "    </tr>\n",
              "    <tr>\n",
              "      <th>5</th>\n",
              "      <td>35</td>\n",
              "      <td>39.710582</td>\n",
              "    </tr>\n",
              "    <tr>\n",
              "      <th>6</th>\n",
              "      <td>24</td>\n",
              "      <td>20.821393</td>\n",
              "    </tr>\n",
              "  </tbody>\n",
              "</table>\n",
              "</div>"
            ],
            "text/plain": [
              "   Actual_Percent  Predicted_Percent\n",
              "0              20          16.844722\n",
              "1              27          33.745575\n",
              "2              69          75.500624\n",
              "3              30          26.786400\n",
              "4              62          60.588106\n",
              "5              35          39.710582\n",
              "6              24          20.821393"
            ]
          },
          "metadata": {
            "tags": []
          },
          "execution_count": 25
        }
      ]
    },
    {
      "cell_type": "markdown",
      "metadata": {
        "id": "JUxAcKdbJZX5"
      },
      "source": [
        "***step9:- AS We have compared by seeing the values we will try to plot a graph and then compare it!!***"
      ]
    },
    {
      "cell_type": "code",
      "metadata": {
        "colab": {
          "base_uri": "https://localhost:8080/",
          "height": 309
        },
        "id": "fAcQYsOkJZX7",
        "outputId": "f9a2f46d-5c51-4f17-ee5d-2d5cb6a44d3e"
      },
      "source": [
        "#plotting Graph \n",
        "plt.scatter(x=test_X, y=test_y, color='blue')\n",
        "plt.plot(test_X, pred_percent, color='Black')\n",
        "plt.title('Actual vs Predicted', size=25)\n",
        "plt.ylabel('Percentage', size=15)\n",
        "plt.xlabel('Study Hours', size=15)\n",
        "plt.show()"
      ],
      "execution_count": 26,
      "outputs": [
        {
          "output_type": "display_data",
          "data": {
            "image/png": "[encoded data removed]",
            "text/plain": [
              "<Figure size 432x288 with 1 Axes>"
            ]
          },
          "metadata": {
            "tags": []
          }
        }
      ]
    },
    {
      "cell_type": "markdown",
      "metadata": {
        "id": "_BI4jTCoJZYA"
      },
      "source": [
        "#### Error Determination\n",
        "***step10:- So Here we will try to Find The efficiency and Mean absolute error and Coefficient of determination ***"
      ]
    },
    {
      "cell_type": "code",
      "metadata": {
        "colab": {
          "base_uri": "https://localhost:8080/"
        },
        "id": "XJHDr5VJJZYC",
        "outputId": "81c396f8-dc41-4f58-cde1-ae7e936279d2"
      },
      "source": [
        "# Calculating the Efficiency the model\n",
        "print('Mean absolute error: ',mean_absolute_error(test_y,pred_percent))\n",
        "#Calculating Coefficient of determination\n",
        "print('Coefficient of Determination: ',r2_score(test_y,pred_percent))"
      ],
      "execution_count": 27,
      "outputs": [
        {
          "output_type": "stream",
          "text": [
            "Mean absolute error:  4.130879918502482\n",
            "Coefficient of Determination:  0.9367661043365056\n"
          ],
          "name": "stdout"
        }
      ]
    },
    {
      "cell_type": "markdown",
      "metadata": {
        "id": "sy3CgPzJJZYF"
      },
      "source": [
        "***As value of Mean absolute error has not a large value so it means the efficiency is good and prediction is Efficient***"
      ]
    },
    {
      "cell_type": "markdown",
      "metadata": {
        "id": "QFZg9SIcJZYI"
      },
      "source": [
        "### Here the Last question is !\n",
        "\n",
        "#### What will be the predicted score of a student if he/she studies for 9.25 hrs/ day?"
      ]
    },
    {
      "cell_type": "code",
      "metadata": {
        "colab": {
          "base_uri": "https://localhost:8080/"
        },
        "id": "9BwJ77nnJZYL",
        "outputId": "d0cd1de7-ff16-4810-f761-c8ea8f15603a"
      },
      "source": [
        "hours = [9.25]\n",
        "ans = r_model.predict([hours])\n",
        "print(*ans)"
      ],
      "execution_count": 28,
      "outputs": [
        {
          "output_type": "stream",
          "text": [
            "93.89272889341652\n"
          ],
          "name": "stdout"
        }
      ]
    },
    {
      "cell_type": "markdown",
      "metadata": {
        "id": "RUwJDW1EJZYO"
      },
      "source": [
        "***So if a student studies for 9.25 hours a day he is likely to score 93.893 Percentage.***"
      ]
    },
    {
      "cell_type": "markdown",
      "metadata": {
        "id": "Cx81qaD8JZYT"
      },
      "source": [
        "#### **Task Completed Successfully**"
      ]
    }
  ]
}